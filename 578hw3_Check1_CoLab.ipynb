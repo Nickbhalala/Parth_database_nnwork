{
 "cells": [
  {
   "cell_type": "markdown",
   "metadata": {
    "id": "uUecO5XzYw_i"
   },
   "source": [
    "## 578hw3_Check1_CoLab.ipynb (Spring 2023)\n",
    "### **NOTE**: This is a version for Google CoLab. \n",
    "#### Run all cells in this file with the original \"NN578_network_nb.ipynb\" to ensure the code runs on your platform."
   ]
  },
  {
   "cell_type": "code",
   "execution_count": 1,
   "metadata": {
    "colab": {
     "base_uri": "https://localhost:8080/"
    },
    "executionInfo": {
     "elapsed": 730,
     "status": "ok",
     "timestamp": 1681069550577,
     "user": {
      "displayName": "Noriko T",
      "userId": "06082512421306527471"
     },
     "user_tz": 300
    },
    "id": "wnHiEX6pZu_G",
    "outputId": "5089cf9d-4970-480e-ad59-c2062d34e470"
   },
   "outputs": [
    {
     "name": "stdout",
     "output_type": "stream",
     "text": [
      "Drive already mounted at /content/drive; to attempt to forcibly remount, call drive.mount(\"/content/drive\", force_remount=True).\n"
     ]
    }
   ],
   "source": [
    "## nt: Code piece to mount my Google Drive\n",
    "from google.colab import drive \n",
    "drive.mount(\"/content/drive\") # my Google Drive root directory will be mapped here"
   ]
  },
  {
   "cell_type": "code",
   "execution_count": 2,
   "metadata": {
    "colab": {
     "base_uri": "https://localhost:8080/"
    },
    "executionInfo": {
     "elapsed": 261,
     "status": "ok",
     "timestamp": 1681069552205,
     "user": {
      "displayName": "Noriko T",
      "userId": "06082512421306527471"
     },
     "user_tz": 300
    },
    "id": "FEv7AacjZwqx",
    "outputId": "e7136a86-362b-4072-9cdc-1a8a165844fb"
   },
   "outputs": [
    {
     "name": "stdout",
     "output_type": "stream",
     "text": [
      "/content/drive/My Drive/CSC578_Spring2023/MyCode/HW#3\n"
     ]
    }
   ],
   "source": [
    "# nt: Change the working directory to the work directory (where the code file is).\n",
    "import os\n",
    "thisdir = '/content/drive/My Drive/CSC578_Spring2023/MyCode/HW#3'\n",
    "os.chdir(thisdir)\n",
    "\n",
    "# Ensure the files are there (in the folder)\n",
    "!pwd"
   ]
  },
  {
   "cell_type": "code",
   "execution_count": 3,
   "metadata": {
    "colab": {
     "base_uri": "https://localhost:8080/"
    },
    "executionInfo": {
     "elapsed": 5275,
     "status": "ok",
     "timestamp": 1681069559301,
     "user": {
      "displayName": "Noriko T",
      "userId": "06082512421306527471"
     },
     "user_tz": 300
    },
    "id": "lGaWYSexYw_t",
    "outputId": "6108de8d-e6c6-4265-e9e6-06c9abc1b715"
   },
   "outputs": [
    {
     "name": "stdout",
     "output_type": "stream",
     "text": [
      "Looking in indexes: https://pypi.org/simple, https://us-python.pkg.dev/colab-wheels/public/simple/\n",
      "Requirement already satisfied: import-ipynb in /usr/local/lib/python3.9/dist-packages (0.1.4)\n",
      "Requirement already satisfied: nbformat in /usr/local/lib/python3.9/dist-packages (from import-ipynb) (5.8.0)\n",
      "Requirement already satisfied: IPython in /usr/local/lib/python3.9/dist-packages (from import-ipynb) (7.34.0)\n",
      "Requirement already satisfied: setuptools>=18.5 in /usr/local/lib/python3.9/dist-packages (from IPython->import-ipynb) (67.6.1)\n",
      "Requirement already satisfied: pygments in /usr/local/lib/python3.9/dist-packages (from IPython->import-ipynb) (2.14.0)\n",
      "Requirement already satisfied: matplotlib-inline in /usr/local/lib/python3.9/dist-packages (from IPython->import-ipynb) (0.1.6)\n",
      "Requirement already satisfied: pickleshare in /usr/local/lib/python3.9/dist-packages (from IPython->import-ipynb) (0.7.5)\n",
      "Requirement already satisfied: pexpect>4.3 in /usr/local/lib/python3.9/dist-packages (from IPython->import-ipynb) (4.8.0)\n",
      "Requirement already satisfied: decorator in /usr/local/lib/python3.9/dist-packages (from IPython->import-ipynb) (4.4.2)\n",
      "Requirement already satisfied: traitlets>=4.2 in /usr/local/lib/python3.9/dist-packages (from IPython->import-ipynb) (5.7.1)\n",
      "Requirement already satisfied: jedi>=0.16 in /usr/local/lib/python3.9/dist-packages (from IPython->import-ipynb) (0.18.2)\n",
      "Requirement already satisfied: prompt-toolkit!=3.0.0,!=3.0.1,<3.1.0,>=2.0.0 in /usr/local/lib/python3.9/dist-packages (from IPython->import-ipynb) (3.0.38)\n",
      "Requirement already satisfied: backcall in /usr/local/lib/python3.9/dist-packages (from IPython->import-ipynb) (0.2.0)\n",
      "Requirement already satisfied: jsonschema>=2.6 in /usr/local/lib/python3.9/dist-packages (from nbformat->import-ipynb) (4.3.3)\n",
      "Requirement already satisfied: jupyter-core in /usr/local/lib/python3.9/dist-packages (from nbformat->import-ipynb) (5.3.0)\n",
      "Requirement already satisfied: fastjsonschema in /usr/local/lib/python3.9/dist-packages (from nbformat->import-ipynb) (2.16.3)\n",
      "Requirement already satisfied: parso<0.9.0,>=0.8.0 in /usr/local/lib/python3.9/dist-packages (from jedi>=0.16->IPython->import-ipynb) (0.8.3)\n",
      "Requirement already satisfied: pyrsistent!=0.17.0,!=0.17.1,!=0.17.2,>=0.14.0 in /usr/local/lib/python3.9/dist-packages (from jsonschema>=2.6->nbformat->import-ipynb) (0.19.3)\n",
      "Requirement already satisfied: attrs>=17.4.0 in /usr/local/lib/python3.9/dist-packages (from jsonschema>=2.6->nbformat->import-ipynb) (22.2.0)\n",
      "Requirement already satisfied: ptyprocess>=0.5 in /usr/local/lib/python3.9/dist-packages (from pexpect>4.3->IPython->import-ipynb) (0.7.0)\n",
      "Requirement already satisfied: wcwidth in /usr/local/lib/python3.9/dist-packages (from prompt-toolkit!=3.0.0,!=3.0.1,<3.1.0,>=2.0.0->IPython->import-ipynb) (0.2.6)\n",
      "Requirement already satisfied: platformdirs>=2.5 in /usr/local/lib/python3.9/dist-packages (from jupyter-core->nbformat->import-ipynb) (3.2.0)\n"
     ]
    }
   ],
   "source": [
    "# First install this library so that we can import code from other Notebooks\n",
    "!pip install import-ipynb\n",
    "import import_ipynb"
   ]
  },
  {
   "cell_type": "code",
   "execution_count": 4,
   "metadata": {
    "colab": {
     "base_uri": "https://localhost:8080/"
    },
    "executionInfo": {
     "elapsed": 1315,
     "status": "ok",
     "timestamp": 1681069564071,
     "user": {
      "displayName": "Noriko T",
      "userId": "06082512421306527471"
     },
     "user_tz": 300
    },
    "id": "X73HQ6nzYw_x",
    "outputId": "482e9455-8a0a-40ee-ba45-f091cba62703"
   },
   "outputs": [
    {
     "name": "stdout",
     "output_type": "stream",
     "text": [
      "importing Jupyter notebook from NN578_network_nb.ipynb\n"
     ]
    }
   ],
   "source": [
    "# import the class Network from \"NN578_network_nb.ipynb\"\n",
    "#from ipynb.fs.defs.NN578_network_nb import Network as network\n",
    "import NN578_network_nb as network_nb\n",
    "import numpy as np\n",
    "\n",
    "# Load the data (using the custom function defined in the class Notebook).\n",
    "iris_data = network_nb.my_load_csv('iris-3.csv', 4, 3)\n",
    "iris_train = iris_data[:105]\n",
    "iris_test = iris_data[105:]"
   ]
  },
  {
   "cell_type": "code",
   "execution_count": 10,
   "metadata": {
    "colab": {
     "base_uri": "https://localhost:8080/"
    },
    "executionInfo": {
     "elapsed": 132,
     "status": "ok",
     "timestamp": 1681069716000,
     "user": {
      "displayName": "Noriko T",
      "userId": "06082512421306527471"
     },
     "user_tz": 300
    },
    "id": "T7GyVDNfYw_y",
    "outputId": "93ea3a39-e872-4e43-bc06-66e84d3cc50c"
   },
   "outputs": [
    {
     "name": "stdout",
     "output_type": "stream",
     "text": [
      "Epoch 0: train acc 0.3333\n",
      "Epoch 1: train acc 0.6667\n",
      "Epoch 2: train acc 0.6667\n",
      "\n",
      "***************************************\n",
      "Initial activations shape: [(4, 1)]\n",
      "***************************************\n"
     ]
    }
   ],
   "source": [
    "# Create a network from the saved network\n",
    "net1 = network_nb.Network.load_network(\"iris-423.dat\")\n",
    "\n",
    "# Train the network for 3 epochs, with minibatch size 8, eta=2.0 and no testset.\n",
    "net1.SGD(iris_data, 3, 8, 2.0)\n",
    "print ('\\n***************************************')\n",
    "print ('Initial activations shape: {}'.format(net1.init_acts_shape))\n",
    "print ('***************************************')"
   ]
  },
  {
   "cell_type": "code",
   "execution_count": 11,
   "metadata": {
    "colab": {
     "base_uri": "https://localhost:8080/"
    },
    "executionInfo": {
     "elapsed": 495,
     "status": "ok",
     "timestamp": 1681069723912,
     "user": {
      "displayName": "Noriko T",
      "userId": "06082512421306527471"
     },
     "user_tz": 300
    },
    "id": "6AwnD4dKYw_0",
    "outputId": "02f7d029-acc5-408b-cf18-809254d4efd9"
   },
   "outputs": [
    {
     "name": "stdout",
     "output_type": "stream",
     "text": [
      "Epoch 0: train acc 0.3333, valid acc 0.3333\n",
      "Epoch 1: train acc 0.3429, valid acc 0.3333\n",
      "Epoch 2: train acc 0.6476, valid acc 0.7111\n",
      "\n",
      "***************************************\n",
      "Initial activations shape: [(4, 1)]\n",
      "***************************************\n"
     ]
    }
   ],
   "source": [
    "# Re-load the saved network and run it again.  This time using the test set.\n",
    "net2 = network_nb.Network.load_network(\"iris-423.dat\")\n",
    "net2.SGD(iris_train, 3, 8, 2.0, iris_test)\n",
    "print ('\\n***************************************')\n",
    "print ('Initial activations shape: {}'.format(net1.init_acts_shape))\n",
    "print ('***************************************')"
   ]
  },
  {
   "cell_type": "code",
   "execution_count": null,
   "metadata": {
    "id": "MQ3F2E99dGXf"
   },
   "outputs": [],
   "source": []
  }
 ],
 "metadata": {
  "colab": {
   "provenance": []
  },
  "kernelspec": {
   "display_name": "Python 3 (ipykernel)",
   "language": "python",
   "name": "python3"
  },
  "language_info": {
   "codemirror_mode": {
    "name": "ipython",
    "version": 3
   },
   "file_extension": ".py",
   "mimetype": "text/x-python",
   "name": "python",
   "nbconvert_exporter": "python",
   "pygments_lexer": "ipython3",
   "version": "3.9.12"
  }
 },
 "nbformat": 4,
 "nbformat_minor": 1
}
